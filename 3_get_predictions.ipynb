{
 "cells": [
  {
   "cell_type": "code",
   "execution_count": null,
   "id": "8d8d4dcd-56bd-4718-9a94-7f6aa3a192de",
   "metadata": {},
   "outputs": [],
   "source": [
    "# Based on the analysis of individual weather components, finally we have the following forecasting algorithm:\n",
    "# Get/read data for at least last 3 days;\n",
    "# Preprocess the data by parsing METAR strings;\n",
    "# Create features;\n",
    "# Make predictions for individual components according the table below;\n",
    "# Convert predictions to METAR string.\n"
   ]
  }
 ],
 "metadata": {
  "kernelspec": {
   "display_name": "Python 3 (ipykernel)",
   "language": "python",
   "name": "python3"
  },
  "language_info": {
   "codemirror_mode": {
    "name": "ipython",
    "version": 3
   },
   "file_extension": ".py",
   "mimetype": "text/x-python",
   "name": "python",
   "nbconvert_exporter": "python",
   "pygments_lexer": "ipython3",
   "version": "3.11.5"
  }
 },
 "nbformat": 4,
 "nbformat_minor": 5
}
